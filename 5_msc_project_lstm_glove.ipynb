{
  "nbformat": 4,
  "nbformat_minor": 0,
  "metadata": {
    "colab": {
      "name": "5. msc_project_lstm_glove.ipynb",
      "version": "0.3.2",
      "provenance": [],
      "collapsed_sections": [],
      "machine_shape": "hm",
      "include_colab_link": true
    },
    "kernelspec": {
      "name": "python3",
      "display_name": "Python 3"
    }
  },
  "cells": [
    {
      "cell_type": "markdown",
      "metadata": {
        "id": "view-in-github",
        "colab_type": "text"
      },
      "source": [
        "<a href=\"https://colab.research.google.com/github/Will170393/MSc-Project---Stance-Detection/blob/master/5_msc_project_lstm_glove.ipynb\" target=\"_parent\"><img src=\"https://colab.research.google.com/assets/colab-badge.svg\" alt=\"Open In Colab\"/></a>"
      ]
    },
    {
      "cell_type": "code",
      "metadata": {
        "id": "L0f1TV7e-Tew",
        "colab_type": "code",
        "outputId": "3bf4f0b8-00a5-4a21-8ccb-13a341dc55cf",
        "colab": {
          "base_uri": "https://localhost:8080/",
          "height": 102
        }
      },
      "source": [
        "# libraries for processing data\n",
        "import numpy as np\n",
        "import pandas as pd\n",
        "import re\n",
        "\n",
        "# libraries for loading files from drive\n",
        "from google.colab import drive\n",
        "drive.mount('/content/gdrive')\n",
        "\n",
        "# libraries for natural language processing\n",
        "from nltk import FreqDist, word_tokenize\n",
        "import nltk\n",
        "nltk.download('punkt')\n",
        "from nltk.corpus import wordnet\n",
        "nltk.download('wordnet')\n",
        "\n",
        "# keras libraries for building neural network\n",
        "from keras.preprocessing.text import Tokenizer\n",
        "from keras.preprocessing.sequence import pad_sequences\n",
        "from keras.models import Sequential\n",
        "from keras.layers import Dense\n",
        "from keras.layers import Flatten\n",
        "from keras.layers import Embedding\n",
        "import keras\n",
        "from keras import optimizers\n",
        "\n",
        "# libraries for plotting graphs\n",
        "from matplotlib import pyplot as plt\n",
        "\n",
        "# sklearn libraries for metrics\n",
        "from sklearn.metrics import classification_report\n",
        "from sklearn.metrics import confusion_matrix\n",
        "from sklearn.utils import resample\n",
        "from sklearn.metrics import accuracy_score\n",
        "\n",
        "# deep learning keras layers\n",
        "from keras.layers import Input, Embedding, LSTM, Dense, concatenate, Bidirectional\n",
        "from keras.models import Model\n",
        "from keras.utils.np_utils import to_categorical\n",
        "\n"
      ],
      "execution_count": 0,
      "outputs": [
        {
          "output_type": "stream",
          "text": [
            "Drive already mounted at /content/gdrive; to attempt to forcibly remount, call drive.mount(\"/content/gdrive\", force_remount=True).\n",
            "[nltk_data] Downloading package punkt to /root/nltk_data...\n",
            "[nltk_data]   Package punkt is already up-to-date!\n",
            "[nltk_data] Downloading package wordnet to /root/nltk_data...\n",
            "[nltk_data]   Package wordnet is already up-to-date!\n"
          ],
          "name": "stdout"
        }
      ]
    },
    {
      "cell_type": "markdown",
      "metadata": {
        "id": "RrazNapEB1lR",
        "colab_type": "text"
      },
      "source": [
        "**Reading data into panda dataframes and merging Stances and Bodies**"
      ]
    },
    {
      "cell_type": "code",
      "metadata": {
        "id": "egZizNGpBSjE",
        "colab_type": "code",
        "colab": {}
      },
      "source": [
        "# creates dataframes from reading the stance and body csv files from the google drive, train/test set already split\n",
        "trainStances = pd.read_csv('gdrive/My Drive/Colab Notebooks/MSC_project_data/train_stances.csv')\n",
        "trainBodies = pd.read_csv('gdrive/My Drive/Colab Notebooks/MSC_project_data/train_bodies.csv')\n",
        "testStances = pd.read_csv('gdrive/My Drive/Colab Notebooks/MSC_project_data/competition_test_stances.csv')\n",
        "testBodies = pd.read_csv('gdrive/My Drive/Colab Notebooks/MSC_project_data/competition_test_bodies.csv')"
      ],
      "execution_count": 0,
      "outputs": []
    },
    {
      "cell_type": "code",
      "metadata": {
        "id": "TlfavtDNB7Ab",
        "colab_type": "code",
        "colab": {}
      },
      "source": [
        "# merges dataframes for article bodies and article stances, inner merge on the Body ID column that appears in both dataframes\n",
        "def mergeStances_Bodies(stances, bodies):\n",
        "  return pd.merge(stances, bodies, how='inner', on='Body ID')"
      ],
      "execution_count": 0,
      "outputs": []
    },
    {
      "cell_type": "code",
      "metadata": {
        "id": "MN00Bp9oB9yP",
        "colab_type": "code",
        "colab": {}
      },
      "source": [
        "# creates merged training and test dataframes\n",
        "train = mergeStances_Bodies(trainStances, trainBodies)\n",
        "test = mergeStances_Bodies(testStances, testBodies)"
      ],
      "execution_count": 0,
      "outputs": []
    },
    {
      "cell_type": "code",
      "metadata": {
        "id": "t7dvo20d4Ryl",
        "colab_type": "code",
        "outputId": "c9ab04c2-cd5e-46bf-f8db-3c5091b511e6",
        "colab": {
          "base_uri": "https://localhost:8080/",
          "height": 102
        }
      },
      "source": [
        "train.Stance.value_counts()"
      ],
      "execution_count": 0,
      "outputs": [
        {
          "output_type": "execute_result",
          "data": {
            "text/plain": [
              "unrelated    36545\n",
              "discuss       8909\n",
              "agree         3678\n",
              "disagree       840\n",
              "Name: Stance, dtype: int64"
            ]
          },
          "metadata": {
            "tags": []
          },
          "execution_count": 6
        }
      ]
    },
    {
      "cell_type": "code",
      "metadata": {
        "id": "PsY8-5wrM-cx",
        "colab_type": "code",
        "colab": {}
      },
      "source": [
        "train.Stance.head"
      ],
      "execution_count": 0,
      "outputs": []
    },
    {
      "cell_type": "markdown",
      "metadata": {
        "id": "5ONyoB0BCYze",
        "colab_type": "text"
      },
      "source": [
        "**Data Cleaning**\n",
        "\n",
        "Cleaning text in dataframe in preparation for data preprocessing\n",
        "\n"
      ]
    },
    {
      "cell_type": "code",
      "metadata": {
        "id": "1BJ-z062CXfn",
        "colab_type": "code",
        "colab": {}
      },
      "source": [
        "#removes non-alphabetic characters from strings and make all characters lower case\n",
        "def data_cleaning(data, col):\n",
        "  p = re.compile(r'[^\\w\\s]+')\n",
        "  data[col] = [p.sub('', str(string)) for string in data[col].tolist()] #uses regex to substitute all non_alphabtic characters with whitespace\n",
        "  data[col] = [[character.lower() for character in word_tokenize(string)] for string in data[col]] #tokenizes the words and converts characters to lower case\n",
        "  data[col] = [' '.join(word) for word in data[col]]\n",
        "  "
      ],
      "execution_count": 0,
      "outputs": []
    },
    {
      "cell_type": "code",
      "metadata": {
        "id": "4rZlG5RxCtQ_",
        "colab_type": "code",
        "colab": {}
      },
      "source": [
        "# cleaning dataframes for article Headlines and Bodies\n",
        "data_cleaning(train, 'Headline')\n",
        "data_cleaning(train, 'articleBody')\n",
        "data_cleaning(test, 'Headline')\n",
        "data_cleaning(test, 'articleBody')"
      ],
      "execution_count": 0,
      "outputs": []
    },
    {
      "cell_type": "code",
      "metadata": {
        "id": "x9Np1wH0gelj",
        "colab_type": "code",
        "outputId": "1fbfbbbd-21b0-49f6-a2d6-51009795c180",
        "colab": {
          "base_uri": "https://localhost:8080/",
          "height": 34
        }
      },
      "source": [
        "#Load pre-defined stops words file from google drive into a list\n",
        "f = open('gdrive/My Drive/Colab Notebooks/MSC_project_data/project_stopwords_final.txt', encoding='utf-8-sig')\n",
        "stop_words = f.read().split('\\n')\n",
        "f.close"
      ],
      "execution_count": 0,
      "outputs": [
        {
          "output_type": "execute_result",
          "data": {
            "text/plain": [
              "<function TextIOWrapper.close>"
            ]
          },
          "metadata": {
            "tags": []
          },
          "execution_count": 7
        }
      ]
    },
    {
      "cell_type": "markdown",
      "metadata": {
        "id": "jlZlSv6pes4x",
        "colab_type": "text"
      },
      "source": [
        "**Data Preprocessing**"
      ]
    },
    {
      "cell_type": "code",
      "metadata": {
        "id": "ZPDa4AKYgffa",
        "colab_type": "code",
        "colab": {}
      },
      "source": [
        "#removing stop words from training and test set\n",
        "def remove_stop_words(data, col, stop_words):\n",
        "  filtered_sentence = data[col].apply(lambda text: [word for word in text.split() if word not in stop_words]) #all all tokens not in stop words list to filtered_tokens\n",
        "  data[col] = [' '.join(word) for word in filtered_sentence]       "
      ],
      "execution_count": 0,
      "outputs": []
    },
    {
      "cell_type": "code",
      "metadata": {
        "id": "9eaTGf-Rgi1t",
        "colab_type": "code",
        "colab": {}
      },
      "source": [
        "# removing stopwords in dataframes for article Headlines and Bodies\n",
        "remove_stop_words(train, 'Headline', stop_words)\n",
        "remove_stop_words(train, 'articleBody', stop_words)\n",
        "remove_stop_words(test, 'Headline', stop_words)\n",
        "remove_stop_words(test, 'articleBody', stop_words)"
      ],
      "execution_count": 0,
      "outputs": []
    },
    {
      "cell_type": "markdown",
      "metadata": {
        "id": "5wdMt9-qfOAX",
        "colab_type": "text"
      },
      "source": [
        "**Sampling Data from Training Set**"
      ]
    },
    {
      "cell_type": "code",
      "metadata": {
        "id": "A3_rK6upmWJQ",
        "colab_type": "code",
        "colab": {}
      },
      "source": [
        "# methods for re-sampling the data\n",
        "def upsample_data(dataframe, classification, target_samples):\n",
        "  classification = str(classification)\n",
        "  minority_class = dataframe[dataframe.Stance == classification]\n",
        "  samples = len(minority_class)\n",
        "  \n",
        "  samples_left = (target_samples - samples)\n",
        "  \n",
        "  while (samples_left != 0):\n",
        "    \n",
        "    if(samples_left < samples):\n",
        "      samples = samples_left\n",
        "  \n",
        "    minority_class_upsampled = resample(minority_class,\n",
        "                                        replace = False,\n",
        "                                        n_samples = samples)\n",
        "  \n",
        "    dataframe = dataframe.append(minority_class_upsampled, ignore_index=True)\n",
        "    \n",
        "    samples_left -= samples\n",
        "  \n",
        "  dataframe = dataframe.sample(frac=1).reset_index(drop=True)\n",
        "  \n",
        "  return dataframe\n",
        "\n",
        "def downsample_data(dataframe, classification, target_samples):\n",
        "  classification = str(classification)\n",
        "  majority_class = dataframe[dataframe.Stance == classification]\n",
        "  \n",
        "  majority_class_downsampled = resample(majority_class,\n",
        "                                        replace = False,\n",
        "                                        n_samples = target_samples)\n",
        "  \n",
        "  \n",
        "  dataframe = dataframe[dataframe.Stance != classification]\n",
        "  \n",
        "  dataframe = dataframe.append(majority_class_downsampled, ignore_index=True)\n",
        "  \n",
        "  dataframe = dataframe.sample(frac=1).reset_index(drop=True)\n",
        "  \n",
        "  return dataframe"
      ],
      "execution_count": 0,
      "outputs": []
    },
    {
      "cell_type": "markdown",
      "metadata": {
        "id": "pTE0op35fUTs",
        "colab_type": "text"
      },
      "source": [
        "**Create Embedding Layer using GLove embeddings**"
      ]
    },
    {
      "cell_type": "code",
      "metadata": {
        "id": "iVv2eNv6euOu",
        "colab_type": "code",
        "colab": {}
      },
      "source": [
        "# method to create vocabulary for GloVE embeddings\n",
        "def create_vocabulary(dataframe1, tokenizer):\n",
        "  list_of_text = []\n",
        "  for index, row in dataframe1.iterrows():\n",
        "    list_of_text.append(row['Headline'])\n",
        "    list_of_text.append(row['articleBody'])\n",
        "  t.fit_on_texts(list_of_text)"
      ],
      "execution_count": 0,
      "outputs": []
    },
    {
      "cell_type": "code",
      "metadata": {
        "id": "FD441btyfNxg",
        "colab_type": "code",
        "colab": {}
      },
      "source": [
        "# method to create embedding index\n",
        "def create_embeddings_index(filepath):\n",
        "  embeddings_index = dict()\n",
        "  file = open(filepath)\n",
        "  for row in file:\n",
        "    lines = row.split()\n",
        "    dict_key = lines[0]\n",
        "    vector = np.asarray(lines[1:], dtype='float32')\n",
        "    embeddings_index[dict_key] = vector\n",
        "  return embeddings_index"
      ],
      "execution_count": 0,
      "outputs": []
    },
    {
      "cell_type": "code",
      "metadata": {
        "id": "CK3ySmufjB2c",
        "colab_type": "code",
        "colab": {}
      },
      "source": [
        "# method to create embedding matrix\n",
        "def create_embedding_matrix(embeddings_index, tokenizer):\n",
        "  matrix = np.zeros((len(tokenizer.word_index) + 1, 100))\n",
        "  for dict_key, item in tokenizer.word_index.items():\n",
        "    vector = embeddings_index.get(dict_key)\n",
        "    if vector is not None:\n",
        "      matrix[item] = vector\n",
        "  return matrix"
      ],
      "execution_count": 0,
      "outputs": []
    },
    {
      "cell_type": "code",
      "metadata": {
        "id": "IQvbBwiM3tjN",
        "colab_type": "code",
        "colab": {}
      },
      "source": [
        "embed_index = create_embeddings_index('gdrive/My Drive/Colab Notebooks/MSC_project_data/glove.6B.100d.txt')"
      ],
      "execution_count": 0,
      "outputs": []
    },
    {
      "cell_type": "markdown",
      "metadata": {
        "id": "_BpMeWrMgZqm",
        "colab_type": "text"
      },
      "source": [
        "**Encode Training set**"
      ]
    },
    {
      "cell_type": "code",
      "metadata": {
        "id": "QWeMiFkUTBCx",
        "colab_type": "code",
        "colab": {}
      },
      "source": [
        "# method to fid max length of tokens in dataframe\n",
        "def find_max(data, col):\n",
        "  return data[col].str.split().str.len()"
      ],
      "execution_count": 0,
      "outputs": []
    },
    {
      "cell_type": "code",
      "metadata": {
        "id": "aIQifB-9aP0q",
        "colab_type": "code",
        "colab": {}
      },
      "source": [
        "# method to encode documents using keras tokenizer\n",
        "def encode_documents(data, col, tokenizer, max_length):\n",
        "  encoded = tokenizer.texts_to_sequences(data[col])\n",
        "  max_length = max_length\n",
        "  padded = pad_sequences(encoded, maxlen=max_length, padding='post')\n",
        "  return padded"
      ],
      "execution_count": 0,
      "outputs": []
    },
    {
      "cell_type": "code",
      "metadata": {
        "id": "99kZ7x98sUxx",
        "colab_type": "code",
        "colab": {}
      },
      "source": [
        "# method to create folds of data for cross validation\n",
        "def dataset_folds(dataset, i, k):\n",
        "  n = len(dataset)\n",
        "  return dataset[n*(i-1)//k:n*i//k]"
      ],
      "execution_count": 0,
      "outputs": []
    },
    {
      "cell_type": "code",
      "metadata": {
        "id": "tVlfDRh4sIYC",
        "colab_type": "code",
        "colab": {}
      },
      "source": [
        "all_data = train.append(test)"
      ],
      "execution_count": 0,
      "outputs": []
    },
    {
      "cell_type": "markdown",
      "metadata": {
        "id": "7-svvsDXhEQM",
        "colab_type": "text"
      },
      "source": [
        "**Build Deep Learning Model**"
      ]
    },
    {
      "cell_type": "code",
      "metadata": {
        "id": "jBgZcT3GjWd4",
        "colab_type": "code",
        "colab": {}
      },
      "source": [
        "# method to buid deep neural network\n",
        "def build_model(vocab_size, embedding_matrix, input_shape_head, input_shape_bodies, vector_dimensions, units):\n",
        "  \n",
        "  headlines_input = Input(shape=(input_shape_head,), name='headlines_input')\n",
        "  bodies_input = Input(shape=(input_shape_bodies,), name='bodies_input')\n",
        "  embed = Embedding(vocab_size, vector_dimensions, weights=[embedding_matrix], trainable=False)\n",
        "  head_embedding = embed(headlines_input)\n",
        "  body_embedding = embed(bodies_input)\n",
        "  \n",
        "  lstm_headlines = Bidirectional(LSTM(units,dropout=0.2, recurrent_dropout=0.2, name='lstm_headlines'))(head_embedding)\n",
        "  lstim_headlines = Dense(100, activation='relu')(lstm_headlines)\n",
        "  lstm_bodies = Bidirectional(LSTM(units, dropout=0.2, recurrent_dropout=0.2, name='lstm_bodies'))(body_embedding)\n",
        "  lstim_bodies = Dense(100, activation='relu')(lstm_bodies)\n",
        "  out = concatenate([lstm_headlines, lstm_bodies])\n",
        "  out = Dense(20, activation='relu')(out)\n",
        "  out = Dense(4, activation='softmax')(out)\n",
        "  model = Model(inputs=[headlines_input, bodies_input], outputs=[out])\n",
        "  return model"
      ],
      "execution_count": 0,
      "outputs": []
    },
    {
      "cell_type": "code",
      "metadata": {
        "id": "Mh6wVGiWuH7c",
        "colab_type": "code",
        "colab": {}
      },
      "source": [
        "# methd to train and test deep neural network\n",
        "def run_NN(model, encode_train_heads, encode_train_bodies, encode_test_heads, encode_test_bodies, Ytrain, Ytest, test_df):\n",
        "  Ytrain = to_categorical(Ytrain, num_classes = 4)\n",
        "  Ytest = to_categorical(Ytest, num_classes = 4)\n",
        "  \n",
        "  model.compile(optimizer = 'adam',\n",
        "               loss = 'categorical_crossentropy',\n",
        "               metrics=['accuracy'])\n",
        "\n",
        "  for i in range(1):\n",
        "    history = model.fit([encode_train_heads, encode_train_bodies], Ytrain, batch_size = 64, epochs = 12, validation_split=0.2, shuffle=True)\n",
        "    plt.plot(history.history['acc'])\n",
        "    plt.plot(history.history['val_acc'])\n",
        "    plt.title('model accuracy')\n",
        "    plt.ylabel('accuracy')\n",
        "    plt.xlabel('epoch')\n",
        "    plt.legend(['train', 'val'], loc='upper left')\n",
        "    plt.show()\n",
        "\n",
        "    plt.plot(history.history['loss'])\n",
        "    plt.plot(history.history['val_loss'])\n",
        "    plt.title('model loss')\n",
        "    plt.ylabel('loss')\n",
        "    plt.xlabel('epoch')\n",
        "    plt.legend(['train', 'val'], loc='upper left')\n",
        "    plt.show()\n",
        "    \n",
        "    test_loss, test_acc = model.evaluate([encode_test_heads, encode_test_bodies], Ytest)\n",
        "    print(test_loss, test_acc)\n",
        "    \n",
        "    Ypred = model.predict([encode_test_heads, encode_test_bodies])\n",
        "   \n",
        "    Ypred_bool = np.argmax(Ypred, axis=1)\n",
        "\n",
        "    Ytest = test_df.Stance.map({'unrelated': 0, 'disagree': 1, 'discuss': 2, 'agree': 3})\n",
        "\n",
        "    print(classification_report(Ytest, Ypred_bool))\n",
        "\n",
        "    print(confusion_matrix(Ytest, Ypred_bool))"
      ],
      "execution_count": 0,
      "outputs": []
    },
    {
      "cell_type": "code",
      "metadata": {
        "id": "43T1GyKDsC5p",
        "colab_type": "code",
        "outputId": "d1351f89-2e40-4435-e92e-5af7047ff466",
        "colab": {
          "base_uri": "https://localhost:8080/",
          "height": 1000
        }
      },
      "source": [
        "# run deep learning models for 5 folds of cross validation\n",
        "stances = ['unrelated', 'disagree', 'discuss', 'agree']\n",
        "column_names =  ['Headline', 'Body ID', 'Stance', 'articleBody']\n",
        "all_data = all_data.sample(frac=1).reset_index(drop=True)\n",
        "accuracy_scores_lstm = []\n",
        "for i in range(5):\n",
        "  kFold_train_df = all_data.iloc[0:0]\n",
        "  kFold_test_df = all_data.iloc[0:0]\n",
        "  for j in range(4):\n",
        "    train_fold = dataset_folds(all_data,((i+j)%5)+1,5)\n",
        "    kFold_train_df = pd.concat([kFold_train_df,train_fold])\n",
        "  test_fold = dataset_folds(all_data,((i+4)%5)+1,5)\n",
        "  kFold_test_df = pd.concat([kFold_test_df,test_fold])\n",
        "  for stance in stances:\n",
        "    if (len(kFold_train_df[kFold_train_df['Stance'] == str(stance)]) == 0):\n",
        "      continue;              \n",
        "    if (len(kFold_train_df[kFold_train_df['Stance'] == str(stance)]) < 15000):\n",
        "      kFold_train_df = upsample_data(kFold_train_df, str(stance), 15000)\n",
        "    if (len(kFold_train_df[kFold_train_df['Stance'] == str(stance)]) > 15000):\n",
        "      kFold_train_df = downsample_data(kFold_train_df, str(stance), 15000)\n",
        "  t = Tokenizer()\n",
        "  create_vocabulary(kFold_train_df,t) #create glove vocabulary using test set\n",
        "  vocabulary_size = len(t.word_index) + 1\n",
        "  embed_matrix = create_embedding_matrix(embed_index, t) #create embedding matrix\n",
        "  max_head = max(find_max(kFold_train_df, 'Headline')) #find max length of headline sequences\n",
        "  model = build_model(vocabulary_size, embed_matrix, max_head, 200, 100, 100) #pass parameters to build model\n",
        "  encode_train_heads = encode_documents(kFold_train_df, 'Headline', t, max_head) #encode training heads\n",
        "  encode_train_bodies = encode_documents(kFold_train_df, 'articleBody', t, 200) #encode training bodies\n",
        "  encode_test_heads = encode_documents(kFold_test_df, 'Headline', t, max_head) #encode test heads\n",
        "  encode_test_bodies = encode_documents(kFold_test_df, 'articleBody', t, 200) #encode test bodies\n",
        "  Ytrain = kFold_train_df.Stance.map({'unrelated': 0, 'disagree': 1, 'discuss': 2, 'agree': 3})\n",
        "  Ytest = kFold_test_df.Stance.map({'unrelated': 0, 'disagree': 1, 'discuss': 2, 'agree': 3})\n",
        "  nn_score = run_NN(model, encode_train_heads, encode_train_bodies, encode_test_heads, encode_test_bodies, Ytrain, Ytest, kFold_test_df) #train and test deep learning model\n",
        "  accuracy_scores_lstm.append(nn_score)"
      ],
      "execution_count": 0,
      "outputs": [
        {
          "output_type": "stream",
          "text": [
            "Train on 48000 samples, validate on 12000 samples\n",
            "Epoch 1/12\n",
            "48000/48000 [==============================] - 341s 7ms/step - loss: 0.9829 - acc: 0.5902 - val_loss: 0.7142 - val_acc: 0.7323\n",
            "Epoch 2/12\n",
            "48000/48000 [==============================] - 326s 7ms/step - loss: 0.6480 - acc: 0.7539 - val_loss: 0.5199 - val_acc: 0.8136\n",
            "Epoch 3/12\n",
            "48000/48000 [==============================] - 325s 7ms/step - loss: 0.4874 - acc: 0.8193 - val_loss: 0.3935 - val_acc: 0.8612\n",
            "Epoch 4/12\n",
            "48000/48000 [==============================] - 324s 7ms/step - loss: 0.3761 - acc: 0.8636 - val_loss: 0.3002 - val_acc: 0.9001\n",
            "Epoch 5/12\n",
            "48000/48000 [==============================] - 324s 7ms/step - loss: 0.2980 - acc: 0.8949 - val_loss: 0.2403 - val_acc: 0.9221\n",
            "Epoch 6/12\n",
            "48000/48000 [==============================] - 325s 7ms/step - loss: 0.2456 - acc: 0.9138 - val_loss: 0.2158 - val_acc: 0.9331\n",
            "Epoch 7/12\n",
            "48000/48000 [==============================] - 323s 7ms/step - loss: 0.2125 - acc: 0.9261 - val_loss: 0.1903 - val_acc: 0.9417\n",
            "Epoch 8/12\n",
            "48000/48000 [==============================] - 326s 7ms/step - loss: 0.1802 - acc: 0.9384 - val_loss: 0.1741 - val_acc: 0.9466\n",
            "Epoch 9/12\n",
            "48000/48000 [==============================] - 325s 7ms/step - loss: 0.1612 - acc: 0.9443 - val_loss: 0.1558 - val_acc: 0.9534\n",
            "Epoch 10/12\n",
            "48000/48000 [==============================] - 324s 7ms/step - loss: 0.1387 - acc: 0.9538 - val_loss: 0.1481 - val_acc: 0.9563\n",
            "Epoch 11/12\n",
            "48000/48000 [==============================] - 325s 7ms/step - loss: 0.1237 - acc: 0.9578 - val_loss: 0.1277 - val_acc: 0.9605\n",
            "Epoch 12/12\n",
            "48000/48000 [==============================] - 325s 7ms/step - loss: 0.1127 - acc: 0.9612 - val_loss: 0.1225 - val_acc: 0.9627\n"
          ],
          "name": "stdout"
        },
        {
          "output_type": "display_data",
          "data": {
            "image/png": "[encoded data removed]",
            "text/plain": [
              "<Figure size 432x288 with 1 Axes>"
            ]
          },
          "metadata": {
            "tags": []
          }
        },
        {
          "output_type": "display_data",
          "data": {
            "image/png": "[encoded data removed]",
            "text/plain": [
              "<Figure size 432x288 with 1 Axes>"
            ]
          },
          "metadata": {
            "tags": []
          }
        },
        {
          "output_type": "stream",
          "text": [
            "15077/15077 [==============================] - 29s 2ms/step\n",
            "0.2645274578651304 0.9224646813065998\n",
            "              precision    recall  f1-score   support\n",
            "\n",
            "           0       0.99      0.92      0.95     11009\n",
            "           1       0.64      0.89      0.75       294\n",
            "           2       0.82      0.95      0.88      2606\n",
            "           3       0.73      0.91      0.81      1168\n",
            "\n",
            "    accuracy                           0.92     15077\n",
            "   macro avg       0.80      0.92      0.85     15077\n",
            "weighted avg       0.93      0.92      0.93     15077\n",
            "\n",
            "[[10103   105   501   300]\n",
            " [    8   262     4    20]\n",
            " [   48    12  2479    67]\n",
            " [   34    29    41  1064]]\n",
            "Train on 48000 samples, validate on 12000 samples\n",
            "Epoch 1/12\n",
            "48000/48000 [==============================] - 335s 7ms/step - loss: 0.9917 - acc: 0.5857 - val_loss: 0.7131 - val_acc: 0.7242\n",
            "Epoch 2/12\n",
            "48000/48000 [==============================] - 325s 7ms/step - loss: 0.6338 - acc: 0.7562 - val_loss: 0.4741 - val_acc: 0.8243\n",
            "Epoch 3/12\n",
            "48000/48000 [==============================] - 327s 7ms/step - loss: 0.4577 - acc: 0.8307 - val_loss: 0.3621 - val_acc: 0.8793\n",
            "Epoch 4/12\n",
            "48000/48000 [==============================] - 328s 7ms/step - loss: 0.3524 - acc: 0.8739 - val_loss: 0.2875 - val_acc: 0.9072\n",
            "Epoch 5/12\n",
            "48000/48000 [==============================] - 326s 7ms/step - loss: 0.2822 - acc: 0.9007 - val_loss: 0.2233 - val_acc: 0.9314\n",
            "Epoch 6/12\n",
            "48000/48000 [==============================] - 323s 7ms/step - loss: 0.2305 - acc: 0.9212 - val_loss: 0.2060 - val_acc: 0.9380\n",
            "Epoch 7/12\n",
            "48000/48000 [==============================] - 325s 7ms/step - loss: 0.1942 - acc: 0.9340 - val_loss: 0.1765 - val_acc: 0.9464\n",
            "Epoch 8/12\n",
            "48000/48000 [==============================] - 322s 7ms/step - loss: 0.1640 - acc: 0.9448 - val_loss: 0.1504 - val_acc: 0.9502\n",
            "Epoch 9/12\n",
            "48000/48000 [==============================] - 324s 7ms/step - loss: 0.1475 - acc: 0.9511 - val_loss: 0.1457 - val_acc: 0.9564\n",
            "Epoch 10/12\n",
            "48000/48000 [==============================] - 323s 7ms/step - loss: 0.1278 - acc: 0.9563 - val_loss: 0.1251 - val_acc: 0.9594\n",
            "Epoch 11/12\n",
            "48000/48000 [==============================] - 324s 7ms/step - loss: 0.1156 - acc: 0.9606 - val_loss: 0.1316 - val_acc: 0.9601\n",
            "Epoch 12/12\n",
            "48000/48000 [==============================] - 326s 7ms/step - loss: 0.1018 - acc: 0.9664 - val_loss: 0.1215 - val_acc: 0.9650\n"
          ],
          "name": "stdout"
        },
        {
          "output_type": "display_data",
          "data": {
            "image/png": "[encoded data removed]",
            "text/plain": [
              "<Figure size 432x288 with 1 Axes>"
            ]
          },
          "metadata": {
            "tags": []
          }
        },
        {
          "output_type": "display_data",
          "data": {
            "image/png": "[encoded data removed]",
            "text/plain": [
              "<Figure size 432x288 with 1 Axes>"
            ]
          },
          "metadata": {
            "tags": []
          }
        },
        {
          "output_type": "stream",
          "text": [
            "15077/15077 [==============================] - 29s 2ms/step\n",
            "0.25102340534636786 0.9217350931922534\n",
            "              precision    recall  f1-score   support\n",
            "\n",
            "           0       0.99      0.91      0.95     10952\n",
            "           1       0.62      0.90      0.74       287\n",
            "           2       0.83      0.95      0.89      2723\n",
            "           3       0.73      0.93      0.81      1115\n",
            "\n",
            "    accuracy                           0.92     15077\n",
            "   macro avg       0.79      0.92      0.85     15077\n",
            "weighted avg       0.93      0.92      0.92     15077\n",
            "\n",
            "[[10008   125   504   315]\n",
            " [    3   259     5    20]\n",
            " [   60    10  2598    55]\n",
            " [   30    23    30  1032]]\n",
            "Train on 48000 samples, validate on 12000 samples\n",
            "Epoch 1/12\n",
            "48000/48000 [==============================] - 333s 7ms/step - loss: 0.9826 - acc: 0.5900 - val_loss: 0.6822 - val_acc: 0.7372\n",
            "Epoch 2/12\n",
            "48000/48000 [==============================] - 324s 7ms/step - loss: 0.6306 - acc: 0.7594 - val_loss: 0.4701 - val_acc: 0.8266\n",
            "Epoch 3/12\n",
            "48000/48000 [==============================] - 325s 7ms/step - loss: 0.4672 - acc: 0.8273 - val_loss: 0.3629 - val_acc: 0.8648\n",
            "Epoch 4/12\n",
            "48000/48000 [==============================] - 328s 7ms/step - loss: 0.3632 - acc: 0.8699 - val_loss: 0.2953 - val_acc: 0.8965\n",
            "Epoch 5/12\n",
            "48000/48000 [==============================] - 326s 7ms/step - loss: 0.2899 - acc: 0.8979 - val_loss: 0.2273 - val_acc: 0.9253\n",
            "Epoch 6/12\n",
            "48000/48000 [==============================] - 325s 7ms/step - loss: 0.2376 - acc: 0.9185 - val_loss: 0.1904 - val_acc: 0.9370\n",
            "Epoch 7/12\n",
            "48000/48000 [==============================] - 324s 7ms/step - loss: 0.2013 - acc: 0.9310 - val_loss: 0.1663 - val_acc: 0.9464\n",
            "Epoch 8/12\n",
            "48000/48000 [==============================] - 325s 7ms/step - loss: 0.1766 - acc: 0.9408 - val_loss: 0.1604 - val_acc: 0.9477\n",
            "Epoch 9/12\n",
            "48000/48000 [==============================] - 325s 7ms/step - loss: 0.1551 - acc: 0.9469 - val_loss: 0.1429 - val_acc: 0.9547\n",
            "Epoch 10/12\n",
            "48000/48000 [==============================] - 325s 7ms/step - loss: 0.1357 - acc: 0.9545 - val_loss: 0.1250 - val_acc: 0.9627\n",
            "Epoch 11/12\n",
            "48000/48000 [==============================] - 326s 7ms/step - loss: 0.1186 - acc: 0.9593 - val_loss: 0.1085 - val_acc: 0.9665\n",
            "Epoch 12/12\n",
            "48000/48000 [==============================] - 325s 7ms/step - loss: 0.1103 - acc: 0.9618 - val_loss: 0.1311 - val_acc: 0.9604\n"
          ],
          "name": "stdout"
        },
        {
          "output_type": "display_data",
          "data": {
            "image/png": "[encoded data removed]",
            "text/plain": [
              "<Figure size 432x288 with 1 Axes>"
            ]
          },
          "metadata": {
            "tags": []
          }
        },
        {
          "output_type": "display_data",
          "data": {
            "image/png": "[encoded data removed]",
            "text/plain": [
              "<Figure size 432x288 with 1 Axes>"
            ]
          },
          "metadata": {
            "tags": []
          }
        },
        {
          "output_type": "stream",
          "text": [
            "15077/15077 [==============================] - 29s 2ms/step\n",
            "0.3244452505904499 0.9088014857067056\n",
            "              precision    recall  f1-score   support\n",
            "\n",
            "           0       0.99      0.90      0.94     10998\n",
            "           1       0.62      0.90      0.73       339\n",
            "           2       0.80      0.94      0.86      2658\n",
            "           3       0.67      0.91      0.78      1082\n",
            "\n",
            "    accuracy                           0.91     15077\n",
            "   macro avg       0.77      0.91      0.83     15077\n",
            "weighted avg       0.93      0.91      0.91     15077\n",
            "\n",
            "[[9911  117  602  368]\n",
            " [   2  306    4   27]\n",
            " [  53   26 2495   84]\n",
            " [  18   48   26  990]]\n",
            "Train on 48000 samples, validate on 12000 samples\n",
            "Epoch 1/12\n",
            "48000/48000 [==============================] - 334s 7ms/step - loss: 0.9761 - acc: 0.5928 - val_loss: 0.6974 - val_acc: 0.7349\n",
            "Epoch 2/12\n",
            "48000/48000 [==============================] - 325s 7ms/step - loss: 0.6498 - acc: 0.7491 - val_loss: 0.5287 - val_acc: 0.8007\n",
            "Epoch 3/12\n",
            "48000/48000 [==============================] - 325s 7ms/step - loss: 0.4877 - acc: 0.8197 - val_loss: 0.3719 - val_acc: 0.8706\n",
            "Epoch 4/12\n",
            "48000/48000 [==============================] - 329s 7ms/step - loss: 0.3833 - acc: 0.8611 - val_loss: 0.2991 - val_acc: 0.8928\n",
            "Epoch 5/12\n",
            "48000/48000 [==============================] - 326s 7ms/step - loss: 0.3104 - acc: 0.8901 - val_loss: 0.2549 - val_acc: 0.9129\n",
            "Epoch 6/12\n",
            "48000/48000 [==============================] - 326s 7ms/step - loss: 0.2608 - acc: 0.9079 - val_loss: 0.2273 - val_acc: 0.9216\n",
            "Epoch 7/12\n",
            "48000/48000 [==============================] - 327s 7ms/step - loss: 0.2264 - acc: 0.9206 - val_loss: 0.1920 - val_acc: 0.9354\n",
            "Epoch 8/12\n",
            "40832/48000 [========================>.....] - ETA: 46s - loss: 0.1984 - acc: 0.9307"
          ],
          "name": "stdout"
        }
      ]
    },
    {
      "cell_type": "code",
      "metadata": {
        "id": "VryQ8oLTxSbs",
        "colab_type": "code",
        "colab": {}
      },
      "source": [
        "from statistics import mean \n",
        "\n",
        "print(mean(accuracy_scores_rf))\n",
        "print(mean(accuracy_scores_mlp))"
      ],
      "execution_count": 0,
      "outputs": []
    }
  ]
}